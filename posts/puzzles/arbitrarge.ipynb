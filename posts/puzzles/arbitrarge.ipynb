{
 "cells": [
  {
   "cell_type": "markdown",
   "metadata": {},
   "source": [
    "---\n",
    "title: \"Arbitrage in Betting\"\n",
    "author: \"Damien Martin\"\n",
    "date: \"2024-05-07 12:00\"\n",
    "categories: [puzzles]\n",
    "image: \"image.jpg\"\n",
    "description: \"Fun diversion\"\n",
    "draft: true\n",
    "---"
   ]
  },
  {
   "cell_type": "code",
   "execution_count": 3,
   "metadata": {},
   "outputs": [],
   "source": [
    "import pandas \n",
    "import plotnine as p9\n",
    "import numpy as np \n",
    "\n",
    "%matplotlib inline"
   ]
  },
  {
   "cell_type": "markdown",
   "metadata": {},
   "source": [
    "Suppose we are betting on two outcomes, with unknown probability. For definiteness, let's take the winner of the presidential election in 2024.\n",
    "\n",
    "Let's suppose one bookie is offering us fractional odds $t$ Trump will win. e.g. If $t = 4$, then on a 1USD bet, you would recieve 4USD in back (i.e. your original 1USD + 3USD in profit). Some bookie offers you odds $h$ that Harris will win.\n",
    "\n",
    "If you were to bet T on Trump, and H on Harris, then here are your possible outcomes:\n",
    "\n",
    "| Bet         | Trump Wins | Harris Wins |\n",
    "|-------------|------------|-------------|\n",
    "| Trump Bet   | $(t-1)T$     | $-T$          |\n",
    "| Harris Bet  | $-H$         | $(h-1)H$      |\n",
    "| Total       | $(t-1)T - H$ | $(h-1)H - T   |\n",
    "\n",
    "Your guaranteed outcome is the minimum of the two results.\n",
    "\n",
    "\n",
    "## The ambivalent bet\n",
    "\n",
    "Let's ask what amount we can be guaranteed walking away with, so we want $(t-1)T - H = (h-1)H - T$.\n",
    "\n",
    "This simplifies to $tT = hH$, or $H = (t/h)T$. If your entire betting bugget is $B = T + H$, this breaks down to\n",
    "\n",
    "$$H = (t/h)T = (t/h)(B - H) \\Rightarrow H = \\frac{t}{h+t}B$$\n",
    "and\n",
    "$$T = \\frac{h}{h+t}B$$\n",
    "\n",
    "This makes sense intuitively: the bigger the payout on a candidate, the less you'd bet on them and the more you'd have to bet on their opponent, to get an ambivalent result.\n",
    "\n",
    "What is the amount you would get? It works out to \n",
    "$$\\text{ambivalent return} = \\left(\\frac{th  - h - t}{h+t}\\right)B$$\n",
    "\n",
    "## Probabilities\n",
    "\n",
    "None of this mentioned probabilities, as the ambivalent return works regardless of whether the probabilites are accurately specified, or if there is a margin. Translating into implied probabilities does help us determine if the ambivalent return is positive.\n",
    "\n",
    "You get zero expectation value if you assume the probability of Trump winning is $1/t$, and similarily for Harris $1/h$.\n",
    "\n",
    "$$\\text{ambivalent return} = \\left(\\frac{th  - h - t}{h+t}\\right) B = \\left(\\frac{1  - 1/t - 1/h}{1/t+1/h}\\right) B = \\left(\\frac{1-p_t - p_h}{p_t + p_h}\\right) B$$\n",
    "\n",
    "If $p_t + p_h < 1$, then there is an arbitrage possibility, where we can guarantee a positive rate of return.\n"
   ]
  },
  {
   "cell_type": "markdown",
   "metadata": {},
   "source": []
  }
 ],
 "metadata": {
  "kernelspec": {
   "display_name": "blog",
   "language": "python",
   "name": "python3"
  },
  "language_info": {
   "codemirror_mode": {
    "name": "ipython",
    "version": 3
   },
   "file_extension": ".py",
   "mimetype": "text/x-python",
   "name": "python",
   "nbconvert_exporter": "python",
   "pygments_lexer": "ipython3",
   "version": "3.12.3"
  }
 },
 "nbformat": 4,
 "nbformat_minor": 2
}
