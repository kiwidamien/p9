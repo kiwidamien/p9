{
 "cells": [
  {
   "cell_type": "markdown",
   "metadata": {},
   "source": [
    "---\n",
    "title: \"Annotating single points in datasets\"\n",
    "author: \"Damien Martin\"\n",
    "date: \"2024-05-01 11:00\"\n",
    "categories: [data-vis, plotnine, snippet]\n",
    "image: \"image.jpg\"\n",
    "description: \"How to annotate single data points in a plot\"\n",
    "---"
   ]
  },
  {
   "cell_type": "markdown",
   "metadata": {},
   "source": [
    "# Problem\n",
    "\n",
    "We don't want to annotate _all_ data points, only one or two extraordinary ones."
   ]
  }
 ],
 "metadata": {
  "language_info": {
   "name": "python"
  }
 },
 "nbformat": 4,
 "nbformat_minor": 2
}
