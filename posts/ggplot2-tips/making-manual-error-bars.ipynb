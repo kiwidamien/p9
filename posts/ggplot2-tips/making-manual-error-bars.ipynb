{
 "cells": [
  {
   "cell_type": "markdown",
   "metadata": {},
   "source": [
    "---\n",
    "title: \"Making manual error bars / error regions\"\n",
    "author: \"Damien Martin\"\n",
    "date: \"2024-04-28 12:00\"\n",
    "categories: [data-vis, plotnine, snippet]\n",
    "image: \"image.jpg\"\n",
    "description: \"Shows how to add error bars/regions manually to plots, both as a region of uncertainty, and on individual data points.\"\n",
    "---"
   ]
  },
  {
   "cell_type": "markdown",
   "metadata": {},
   "source": [
    "# Problem\n",
    "\n",
    "There are lots of examples of being able to do a linear regression, and have plotnine draw the region of uncertainity automatically.\n",
    "\n",
    "There are fewer examples (or they are harder to find) of how to add error bars or error regions that you have already calculated.\n",
    "\n",
    "# Solution\n",
    "\n",
    "For error regions, we use `geom_ribbon`:\n",
    "```python\n",
    "p9.geom_ribbon(mapping=p9.aes(ymin='columnname', ymax='columnname'))\n",
    "```\n",
    "\n",
    "For error bars, we use `geom_errorbar` or `geom_pointrange`:\n",
    "```python\n",
    "p9.geom_errorbar(mapping=p9.aes(ymin='columnname', ymax='columnname'))\n",
    "p9.geom_pointrange(mapping=p9.aes(ymin='columnname', ymax='columnname'))\n",
    "```\n",
    "\n",
    "The difference is that the `geom_errorbar` draws crossbars at the top and bottom, while `geom_pointrange` only draws the vertical line."
   ]
  },
  {
   "cell_type": "markdown",
   "metadata": {},
   "source": [
    "# Example\n",
    "\n"
   ]
  },
  {
   "cell_type": "code",
   "execution_count": null,
   "metadata": {
    "vscode": {
     "languageId": "plaintext"
    }
   },
   "outputs": [],
   "source": []
  },
  {
   "cell_type": "code",
   "execution_count": null,
   "metadata": {
    "vscode": {
     "languageId": "plaintext"
    }
   },
   "outputs": [],
   "source": []
  }
 ],
 "metadata": {
  "language_info": {
   "name": "python"
  }
 },
 "nbformat": 4,
 "nbformat_minor": 2
}
