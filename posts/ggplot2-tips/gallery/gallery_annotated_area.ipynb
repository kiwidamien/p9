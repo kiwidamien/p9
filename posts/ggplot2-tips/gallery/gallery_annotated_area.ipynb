{
 "cells": [
  {
   "cell_type": "markdown",
   "metadata": {},
   "source": [
    "---\n",
    "title: \"Annotated area charts with plotnine\"\n",
    "author: \"External\"\n",
    "date: \"2024-05-11 13:00\"\n",
    "categories: [data-vis, plotnine, gallery]\n",
    "image: \"image.jpg\"\n",
    "description: \"Gallery plot showing clean anntoations and usage of areas\"\n",
    "---"
   ]
  },
  {
   "cell_type": "markdown",
   "metadata": {},
   "source": [
    "# Beautiful plot!\n",
    "\n",
    "This is an amazing plot showing annotations and area plots. It was part of the [2024 Plotnine Gallery Contest](https://posit.co/blog/announcing-the-2024-plotnine-contest/).\n",
    "\n",
    "Original source for the post is [here](https://nrennie.rbind.io/blog/plotnine-annotated-area-chart/).\n",
    "\n",
    "Image from the original blog post is \n",
    "\n",
    "![chart](annotating_area.png)"
   ]
  },
  {
   "cell_type": "markdown",
   "metadata": {},
   "source": []
  }
 ],
 "metadata": {
  "language_info": {
   "name": "python"
  }
 },
 "nbformat": 4,
 "nbformat_minor": 2
}
