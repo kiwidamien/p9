{
 "cells": [
  {
   "cell_type": "markdown",
   "metadata": {},
   "source": [
    "---\n",
    "title: \"Pandas: Time-series on multiple columns (grouper)\"\n",
    "author: \"Damien Martin\"\n",
    "date: \"2024-11-04\"\n",
    "categories: [pandas, dates]\n",
    "---"
   ]
  },
  {
   "cell_type": "markdown",
   "metadata": {},
   "source": [
    "# Problem"
   ]
  },
  {
   "cell_type": "markdown",
   "metadata": {},
   "source": [
    "In a [previous article](./grouper.ipynb) we looked at time-series, with a datetime index, and making it spaced out at a regular interval. In particular, ensuring that it kept \"missing dates\" (e.g. if counting sales, incorporated 0 sales for a week with no entries, rather than just skipping that week).\n",
    "\n",
    "This article looks at how to take a regular datetime column and \"standardize it\", for example, making it the Monday at the beginning of the week.\n",
    "\n",
    "For example, let's say that we wanted to make this product catalog have the week that the product was introduced:"
   ]
  },
  {
   "cell_type": "code",
   "execution_count": 1,
   "metadata": {},
   "outputs": [
    {
     "data": {
      "text/html": [
       "<div>\n",
       "<style scoped>\n",
       "    .dataframe tbody tr th:only-of-type {\n",
       "        vertical-align: middle;\n",
       "    }\n",
       "\n",
       "    .dataframe tbody tr th {\n",
       "        vertical-align: top;\n",
       "    }\n",
       "\n",
       "    .dataframe thead th {\n",
       "        text-align: right;\n",
       "    }\n",
       "</style>\n",
       "<table border=\"1\" class=\"dataframe\">\n",
       "  <thead>\n",
       "    <tr style=\"text-align: right;\">\n",
       "      <th></th>\n",
       "      <th>product</th>\n",
       "      <th>introduced</th>\n",
       "    </tr>\n",
       "  </thead>\n",
       "  <tbody>\n",
       "    <tr>\n",
       "      <th>0</th>\n",
       "      <td>Great Gatsby Beans</td>\n",
       "      <td>2024-01-05</td>\n",
       "    </tr>\n",
       "    <tr>\n",
       "      <th>1</th>\n",
       "      <td>Chocoloate Frogs</td>\n",
       "      <td>1896-07-05</td>\n",
       "    </tr>\n",
       "    <tr>\n",
       "      <th>2</th>\n",
       "      <td>Whizz-bangs!</td>\n",
       "      <td>1905-02-04</td>\n",
       "    </tr>\n",
       "  </tbody>\n",
       "</table>\n",
       "</div>"
      ],
      "text/plain": [
       "              product introduced\n",
       "0  Great Gatsby Beans 2024-01-05\n",
       "1    Chocoloate Frogs 1896-07-05\n",
       "2        Whizz-bangs! 1905-02-04"
      ]
     },
     "execution_count": 1,
     "metadata": {},
     "output_type": "execute_result"
    }
   ],
   "source": [
    "#| echo: False\n",
    "import pandas as pd \n",
    "\n",
    "example = pd.DataFrame([\n",
    "    {'product': 'Great Gatsby Beans', 'introduced': '2024-01-05'},\n",
    "    {'product': 'Chocoloate Frogs', 'introduced': '1896-07-05'},\n",
    "    {'product': 'Whizz-bangs!', 'introduced': '1905-02-04'}\n",
    "])\n",
    "example['introduced'] = pd.to_datetime(example['introduced'])\n",
    "example"
   ]
  },
  {
   "cell_type": "markdown",
   "metadata": {},
   "source": [
    "That is, we want the earliest Monday before the date in question, like so:"
   ]
  },
  {
   "cell_type": "code",
   "execution_count": 5,
   "metadata": {},
   "outputs": [
    {
     "data": {
      "text/html": [
       "<div>\n",
       "<style scoped>\n",
       "    .dataframe tbody tr th:only-of-type {\n",
       "        vertical-align: middle;\n",
       "    }\n",
       "\n",
       "    .dataframe tbody tr th {\n",
       "        vertical-align: top;\n",
       "    }\n",
       "\n",
       "    .dataframe thead th {\n",
       "        text-align: right;\n",
       "    }\n",
       "</style>\n",
       "<table border=\"1\" class=\"dataframe\">\n",
       "  <thead>\n",
       "    <tr style=\"text-align: right;\">\n",
       "      <th></th>\n",
       "      <th>product</th>\n",
       "      <th>introduced</th>\n",
       "      <th>week_start</th>\n",
       "    </tr>\n",
       "  </thead>\n",
       "  <tbody>\n",
       "    <tr>\n",
       "      <th>0</th>\n",
       "      <td>Great Gatsby Beans</td>\n",
       "      <td>2024-01-05</td>\n",
       "      <td>2024-01-01</td>\n",
       "    </tr>\n",
       "    <tr>\n",
       "      <th>1</th>\n",
       "      <td>Chocoloate Frogs</td>\n",
       "      <td>1896-07-05</td>\n",
       "      <td>1896-06-29</td>\n",
       "    </tr>\n",
       "    <tr>\n",
       "      <th>2</th>\n",
       "      <td>Whizz-bangs!</td>\n",
       "      <td>1905-02-04</td>\n",
       "      <td>1905-01-30</td>\n",
       "    </tr>\n",
       "  </tbody>\n",
       "</table>\n",
       "</div>"
      ],
      "text/plain": [
       "              product introduced week_start\n",
       "0  Great Gatsby Beans 2024-01-05 2024-01-01\n",
       "1    Chocoloate Frogs 1896-07-05 1896-06-29\n",
       "2        Whizz-bangs! 1905-02-04 1905-01-30"
      ]
     },
     "execution_count": 5,
     "metadata": {},
     "output_type": "execute_result"
    }
   ],
   "source": [
    "#| echo: False\n",
    "example['week_start'] = example['introduced'].dt.to_period('W-SUN').dt.start_time\n",
    "example"
   ]
  },
  {
   "cell_type": "markdown",
   "metadata": {},
   "source": [
    "# Solution"
   ]
  },
  {
   "cell_type": "markdown",
   "metadata": {},
   "source": [
    "One of the simplest solutions (modified from  [this SO post](https://stackoverflow.com/questions/27989120/get-week-start-date-monday-from-a-date-column-in-python-pandas)) is to convert to a period, and then use the start time of that period, as follows:\n",
    "```\n",
    "df['time_field'].dt.to_period('W-SUN').dt.start_time\n",
    "```\n",
    "\n",
    "**Note:**\n",
    "\n",
    "The period syntax is a little confusing: it denotes when the week will _end_. So using a period of `W-SUN` means a week going from Monday to Sunday. Details in the [pandas documentation](https://pandas.pydata.org/docs/user_guide/timeseries.html#anchored-offsets)."
   ]
  },
  {
   "cell_type": "markdown",
   "metadata": {},
   "source": [
    "The original stack overflow post used an apply, and used a different method to vectorize, but this solution is readable without the non-performant `apply`."
   ]
  },
  {
   "cell_type": "markdown",
   "metadata": {},
   "source": [
    "# Example"
   ]
  },
  {
   "cell_type": "markdown",
   "metadata": {},
   "source": [
    "Taking the catalog from earlier:"
   ]
  },
  {
   "cell_type": "code",
   "execution_count": 3,
   "metadata": {},
   "outputs": [
    {
     "data": {
      "text/html": [
       "<div>\n",
       "<style scoped>\n",
       "    .dataframe tbody tr th:only-of-type {\n",
       "        vertical-align: middle;\n",
       "    }\n",
       "\n",
       "    .dataframe tbody tr th {\n",
       "        vertical-align: top;\n",
       "    }\n",
       "\n",
       "    .dataframe thead th {\n",
       "        text-align: right;\n",
       "    }\n",
       "</style>\n",
       "<table border=\"1\" class=\"dataframe\">\n",
       "  <thead>\n",
       "    <tr style=\"text-align: right;\">\n",
       "      <th></th>\n",
       "      <th>product</th>\n",
       "      <th>introduced</th>\n",
       "    </tr>\n",
       "  </thead>\n",
       "  <tbody>\n",
       "    <tr>\n",
       "      <th>0</th>\n",
       "      <td>Great Gatsby Beans</td>\n",
       "      <td>2024-01-05</td>\n",
       "    </tr>\n",
       "    <tr>\n",
       "      <th>1</th>\n",
       "      <td>Chocoloate Frogs</td>\n",
       "      <td>1896-07-05</td>\n",
       "    </tr>\n",
       "    <tr>\n",
       "      <th>2</th>\n",
       "      <td>Whizz-bangs!</td>\n",
       "      <td>1905-02-04</td>\n",
       "    </tr>\n",
       "  </tbody>\n",
       "</table>\n",
       "</div>"
      ],
      "text/plain": [
       "              product introduced\n",
       "0  Great Gatsby Beans 2024-01-05\n",
       "1    Chocoloate Frogs 1896-07-05\n",
       "2        Whizz-bangs! 1905-02-04"
      ]
     },
     "execution_count": 3,
     "metadata": {},
     "output_type": "execute_result"
    }
   ],
   "source": [
    "catalog = pd.DataFrame([\n",
    "    {'product': 'Great Gatsby Beans', 'introduced': '2024-01-05'},\n",
    "    {'product': 'Chocoloate Frogs', 'introduced': '1896-07-05'},\n",
    "    {'product': 'Whizz-bangs!', 'introduced': '1905-02-04'}\n",
    "])\n",
    "catalog['introduced'] = pd.to_datetime(catalog['introduced'])\n",
    "catalog"
   ]
  },
  {
   "cell_type": "markdown",
   "metadata": {},
   "source": [
    "We can make our new field"
   ]
  },
  {
   "cell_type": "code",
   "execution_count": 6,
   "metadata": {},
   "outputs": [
    {
     "data": {
      "text/html": [
       "<div>\n",
       "<style scoped>\n",
       "    .dataframe tbody tr th:only-of-type {\n",
       "        vertical-align: middle;\n",
       "    }\n",
       "\n",
       "    .dataframe tbody tr th {\n",
       "        vertical-align: top;\n",
       "    }\n",
       "\n",
       "    .dataframe thead th {\n",
       "        text-align: right;\n",
       "    }\n",
       "</style>\n",
       "<table border=\"1\" class=\"dataframe\">\n",
       "  <thead>\n",
       "    <tr style=\"text-align: right;\">\n",
       "      <th></th>\n",
       "      <th>product</th>\n",
       "      <th>introduced</th>\n",
       "      <th>week_start</th>\n",
       "    </tr>\n",
       "  </thead>\n",
       "  <tbody>\n",
       "    <tr>\n",
       "      <th>0</th>\n",
       "      <td>Great Gatsby Beans</td>\n",
       "      <td>2024-01-05</td>\n",
       "      <td>2024-01-01</td>\n",
       "    </tr>\n",
       "    <tr>\n",
       "      <th>1</th>\n",
       "      <td>Chocoloate Frogs</td>\n",
       "      <td>1896-07-05</td>\n",
       "      <td>1896-06-29</td>\n",
       "    </tr>\n",
       "    <tr>\n",
       "      <th>2</th>\n",
       "      <td>Whizz-bangs!</td>\n",
       "      <td>1905-02-04</td>\n",
       "      <td>1905-01-30</td>\n",
       "    </tr>\n",
       "  </tbody>\n",
       "</table>\n",
       "</div>"
      ],
      "text/plain": [
       "              product introduced week_start\n",
       "0  Great Gatsby Beans 2024-01-05 2024-01-01\n",
       "1    Chocoloate Frogs 1896-07-05 1896-06-29\n",
       "2        Whizz-bangs! 1905-02-04 1905-01-30"
      ]
     },
     "execution_count": 6,
     "metadata": {},
     "output_type": "execute_result"
    }
   ],
   "source": [
    "catalog['week_start'] = catalog['introduced'].dt.to_period('W-SUN').dt.start_time\n",
    "catalog"
   ]
  },
  {
   "cell_type": "code",
   "execution_count": null,
   "metadata": {},
   "outputs": [],
   "source": []
  }
 ],
 "metadata": {
  "kernelspec": {
   "display_name": "blog",
   "language": "python",
   "name": "python3"
  },
  "language_info": {
   "codemirror_mode": {
    "name": "ipython",
    "version": 3
   },
   "file_extension": ".py",
   "mimetype": "text/x-python",
   "name": "python",
   "nbconvert_exporter": "python",
   "pygments_lexer": "ipython3",
   "version": "3.12.3"
  }
 },
 "nbformat": 4,
 "nbformat_minor": 2
}
