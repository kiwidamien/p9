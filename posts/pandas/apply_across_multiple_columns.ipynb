{
 "cells": [
  {
   "cell_type": "markdown",
   "metadata": {},
   "source": [
    "---\n",
    "title: \"Pandas: Transform like behavior using data from multiple columns\"\n",
    "author: \"Damien Martin\"\n",
    "date: \"2024-07-03\"\n",
    "categories: [pandas]\n",
    "---"
   ]
  },
  {
   "cell_type": "markdown",
   "metadata": {},
   "source": [
    "# The problem"
   ]
  },
  {
   "cell_type": "markdown",
   "metadata": {},
   "source": [
    "We have a couple of different patterns for aggregating data collections:\n",
    "\n",
    "- `groupby([group_cols]).apply`: Allows us to group, and then apply an arbitrary function on the group. Resulting dataframe will have a different index (the grouped variable).\n",
    "- `groupby([group_cols])['column'].transform`: Allows us to group, and then apply a transformation on the `column` data, and return the aggregate result for each row. ie. the index returned will be the same (we preserve rows)\n",
    "\n",
    "For example, if we "
   ]
  }
 ],
 "metadata": {
  "kernelspec": {
   "display_name": "blog",
   "language": "python",
   "name": "python3"
  },
  "language_info": {
   "codemirror_mode": {
    "name": "ipython",
    "version": 3
   },
   "file_extension": ".py",
   "mimetype": "text/x-python",
   "name": "python",
   "nbconvert_exporter": "python",
   "pygments_lexer": "ipython3",
   "version": "3.12.3"
  }
 },
 "nbformat": 4,
 "nbformat_minor": 2
}
