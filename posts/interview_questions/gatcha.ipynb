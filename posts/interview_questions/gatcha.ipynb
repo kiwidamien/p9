{
 "cells": [
  {
   "cell_type": "markdown",
   "metadata": {},
   "source": [
    "---\n",
    "title: \"Gatcha games\"\n",
    "author: \"Damien Martin\"\n",
    "date: \"2024-11-18\"\n",
    "categories: [interview,puzzles]\n",
    "---"
   ]
  },
  {
   "cell_type": "markdown",
   "metadata": {},
   "source": [
    "# Problem\n",
    "\n",
    "In Gatcha, you have some set number of prizes $N$ that are unique. When you play the game, you pay money to get a prize. We will assume that each prize occurs randomly, and the pool of balls is large enough so the probability remains even.\n",
    "\n",
    "When in Japan, we played this game to get 6 golden lions, which ended up taking us 11 plays. The questions we can ask are\n",
    "- What is the expected number of plays we would have?\n",
    "- What is the distribution of plays we would have?"
   ]
  },
  {
   "cell_type": "markdown",
   "metadata": {},
   "source": [
    "# Solution"
   ]
  },
  {
   "cell_type": "markdown",
   "metadata": {},
   "source": [
    "Let's start by noting some facts about the $N=6$ game:\n",
    "\n",
    "- The probability of collecting all 6 on turn $T$ is zero, for $T < 6$.\n",
    "- If you have $n$ prizes already, there is a $n/6$ chance the next draw won't improve anything, and a $1 - n/6$ chance that you will progress to having $n+1$ prizes.\n",
    "\n",
    "We can treat this as a transition problem. On a turn:\n",
    "\n",
    "$$P(n | n) = n/6,  P(n+1 | n) = 1 - n/6$$\n",
    "\n"
   ]
  },
  {
   "cell_type": "markdown",
   "metadata": {},
   "source": [
    "import pandas as pd\n",
    "import numpy as np"
   ]
  }
 ],
 "metadata": {
  "language_info": {
   "name": "python"
  }
 },
 "nbformat": 4,
 "nbformat_minor": 2
}
