{
 "cells": [
  {
   "cell_type": "markdown",
   "id": "3e123688",
   "metadata": {},
   "source": [
    "---\n",
    "title: \"The spreadsheet column problem\"\n",
    "author: \"Damien Martin\"\n",
    "date: \"2025-07-02\"\n",
    "categories: [interview,puzzles]\n",
    "---"
   ]
  },
  {
   "cell_type": "markdown",
   "id": "0f8d136b",
   "metadata": {},
   "source": [
    "# The Spreadsheet Column Problem\n",
    "\n",
    "In a spreadsheet, we have columns `A`, `B`, ...., `Z`, `AA`, `AB` etc, that allow us to specify a cell address like `A3`, `C6`, `CA56`, etc.\n",
    "\n",
    "The problem here is to write a function `col_to_index(col: str)` that takes the column part, and maps it to the column number. As some examples:\n",
    "\n",
    "* `col_to_index('A')` returns 0\n",
    "* `col_to_index('B')` returns 1\n",
    "* `col_to_index('C')` returns 2\n",
    "* `col_to_index('Z')` returns 25\n",
    "* `col_to_index('AA')` returns 26\n",
    "* `col_to_index('AB')` returns 27\n",
    "\n",
    "etc\n",
    "\n",
    "If the columns were only single characters A-Z, this is pretty easy:"
   ]
  },
  {
   "cell_type": "code",
   "execution_count": 1,
   "id": "4d41ea4d",
   "metadata": {},
   "outputs": [],
   "source": [
    "def col_to_index(col: str) -> int:\n",
    "    \"\"\"Only works for single letter columns\"\"\"\n",
    "    return ord(col.upper()) - ord('A')"
   ]
  },
  {
   "cell_type": "markdown",
   "id": "b4a86620",
   "metadata": {},
   "source": [
    "# Solution"
   ]
  },
  {
   "cell_type": "markdown",
   "id": "11528d9f",
   "metadata": {},
   "source": [
    "Let's start by what it _isn't_. This looks close to a \"change of base\" problem, where A = 0, B = 1, etc. The problem is that `AA` is `10_base(26)`, or 26 in base 10.\n",
    "\n",
    "We can see this more distinctly by using an alphabet with only two letters, and comparing binary and \"column_names\" with two letters\n",
    "\n",
    "| Number | Binary (4 bit) | Letter representation (AB only) | \n",
    "|--------|----------------|---------------------------------|\n",
    "| 0      |           0000 |                               A |\n",
    "| 1      |           0001 |                               B |\n",
    "| 2      |           0010 |                              AA |\n",
    "| 3      |           0011 |                              AB |\n",
    "| 4      |           0100 |                              BA |\n",
    "| 5      |           0101 |                              BB |\n",
    "| 6      |           0110 |                             AAA |\n",
    "| 7      |           0111 |                             AAB |\n",
    "| 8      |           1000 |                             ABA |\n",
    "| 9      |           1001 |                             ABB |\n",
    "| 10     |           1010 |                             BAA |\n",
    "| 11     |           1011 |                             BAB |\n",
    "| 12     |           1100 |                             BBA |\n",
    "| 13     |           1101 |                             BBB |\n",
    "| 14     |           1110 |                            AAAA |\n",
    "| 15     |           1111 |                            AAAB |\n",
    "\n",
    "This isn't quite just a base replacement problem!\n",
    "\n",
    "We can generalize our problem a little bit for easy testing, and make the function\n",
    "```\n",
    "def col_to_index(col: str, symbols=string.ascii_uppercase) -> int:\n",
    "    ....\n",
    "```"
   ]
  },
  {
   "cell_type": "markdown",
   "id": "09cca119",
   "metadata": {},
   "source": [
    "## Breaking the problem into two parts"
   ]
  },
  {
   "cell_type": "markdown",
   "id": "17ed763f",
   "metadata": {},
   "source": [
    "The problem is easiest to break into two parts. If the length of the string is `N`:\n",
    "\n",
    "* How many strings can we make with `N-1` digits?\n",
    "* If you interpret your string in its own base, what do you get?\n",
    "\n",
    "\n",
    "\n",
    "For example, if our alphabet is just `['A', 'B']`, then `AAAB` is obtain by:\n",
    "\n",
    "1. How many strings can we make with N-1 digits number? That is, what is `BBB` plus 1 (to include 0)? Answer: 14.\n",
    "2. What does `A=0, B=1`, `AAAB` correspond to in binary? Answer: `0001_2` in binary is 1.\n",
    "\n",
    "So `AAAB` is 14+1 = 15.\n",
    "\n",
    "\n",
    "The second part is tedious to do by hand, but trivial on a computer. The first part is a little more interesting. Suppose there are `L` letters in your alphabet. How many strings are there of length `N-1`?\n",
    "\n",
    "* Strings of length 1 = `L`\n",
    "* Strings of length 2 = `L*L`\n",
    "* Strings of length 3 = `L*L*L`\n",
    "\n",
    "i.e. a geometric series!\n",
    "\n",
    "So we have `Number of strings length N-1 or less` = (L^N - L) / (L - 1). So in our example of N = 4, the number of strings of length 3 or less is (2^4 - 2)/1 = 14. In general, if N=2 (the first non-trivial case), we have $(L^2 - L)/(L-1) = L(L-1)/(L-1) = L$.\n",
    "\n",
    "For part 2, we need to convert each letter into a digit, and then parse the digit. This is pretty standard."
   ]
  },
  {
   "cell_type": "code",
   "execution_count": 2,
   "id": "2d36eefa",
   "metadata": {},
   "outputs": [],
   "source": [
    "import string \n",
    "\n",
    "def parse(s: str, symbols: str) -> int:\n",
    "    \"\"\"Convert an alpha numeric string to an int, by treating each character as a digit.\n",
    "    \n",
    "    Symbols are in order: symbol[0] maps to 0, symbol[1] maps to 1, symbol[N] maps to N.\n",
    "    The string of 'digits' is then interpreted in base_len(symbols).\n",
    "    \n",
    "    >>> parse(\"10\", symbols=string.digits)\n",
    "    10\n",
    "    >>> parse(\"10\", symbols=\"01\")\n",
    "    2\n",
    "    >>> parse(\"BB\", symbols=\"AB\")\n",
    "    3\n",
    "    \"\"\"\n",
    "    accum = 0\n",
    "    num_seq = [symbols.index(symbol) for symbol in s]\n",
    "    for num in num_seq:\n",
    "        accum = accum * len(symbols) + num\n",
    "    return accum"
   ]
  },
  {
   "cell_type": "markdown",
   "id": "798f48d8",
   "metadata": {},
   "source": [
    "Or, if you want to be a fancy functional programmer:"
   ]
  },
  {
   "cell_type": "code",
   "execution_count": 3,
   "id": "d2fdd849",
   "metadata": {},
   "outputs": [],
   "source": [
    "from functools import reduce\n",
    "\n",
    "def parse(s: str, symbols: str) -> int:\n",
    "    \"\"\"Convert an alpha numeric string to an int, by treating each character as a digit.\n",
    "    \n",
    "    Symbols are in order: symbol[0] maps to 0, symbol[1] maps to 1, symbol[N] maps to N.\n",
    "    The string of 'digits' is then interpreted in base_len(symbols).\n",
    "    \n",
    "    >>> parse(\"10\", symbols=string.digits)\n",
    "    10\n",
    "    >>> parse(\"10\", symbols=\"01\")\n",
    "    2\n",
    "    >>> parse(\"BB\", symbols=\"AB\")\n",
    "    3\n",
    "    \"\"\"\n",
    "    num_seq = [symbols.index(symbol) for symbol in s]\n",
    "    return reduce(lambda acc, val: len(symbols)*acc + val, num_seq, 0)"
   ]
  },
  {
   "cell_type": "code",
   "execution_count": 4,
   "id": "40a62e6b",
   "metadata": {},
   "outputs": [],
   "source": [
    "assert parse(\"10\", symbols = string.digits) == 10\n",
    "assert parse(\"10\", symbols=\"01\") == 2\n",
    "assert parse(\"FF\", symbols=\"0123456789ABCDEF\") == 255"
   ]
  },
  {
   "cell_type": "code",
   "execution_count": 5,
   "id": "a325efaf",
   "metadata": {},
   "outputs": [],
   "source": [
    "def num_strings_len_n_or_less(length: int, alphabet_size: int) -> int:\n",
    "    return (alphabet_size**(length + 1) - alphabet_size) // (alphabet_size - 1)"
   ]
  },
  {
   "cell_type": "code",
   "execution_count": 6,
   "id": "6cdc4d16",
   "metadata": {},
   "outputs": [],
   "source": [
    "# Our example of A = 0 to BBB = 13, so 14 strings of length 3 or less\n",
    "assert num_strings_len_n_or_less(length=3, alphabet_size=2)==14"
   ]
  },
  {
   "cell_type": "code",
   "execution_count": 7,
   "id": "8e0d6088",
   "metadata": {},
   "outputs": [],
   "source": [
    "def col_to_index(col_name: str, symbols: str=string.ascii_uppercase) -> int:\n",
    "    \"\"\"Only works for single letter columns\"\"\"\n",
    "    if len(col_name) == 0:\n",
    "        return ValueError(\"Cannot convert empty string\")\n",
    "    length_of_string = len(col_name)\n",
    "    parsed_as_num = parse(s=col_name, symbols=symbols)\n",
    "    if len(col_name) == 1:\n",
    "        return parsed_as_num\n",
    "    return num_strings_len_n_or_less(length=length_of_string - 1, alphabet_size=len(symbols)) + parsed_as_num\n"
   ]
  },
  {
   "cell_type": "code",
   "execution_count": 8,
   "id": "3c6bb2a8",
   "metadata": {},
   "outputs": [],
   "source": [
    "assert col_to_index('A', symbols=\"AB\")==0\n",
    "assert col_to_index('B', symbols=\"AB\")==1\n",
    "assert col_to_index('AA', symbols=\"AB\")==2\n",
    "assert col_to_index('AB', symbols=\"AB\")==3\n",
    "assert col_to_index('BA', symbols=\"AB\")==4\n",
    "assert col_to_index('BB', symbols=\"AB\")==5\n",
    "assert col_to_index('BBB', symbols=\"AB\")==13"
   ]
  },
  {
   "cell_type": "code",
   "execution_count": 9,
   "id": "2380914a",
   "metadata": {},
   "outputs": [],
   "source": [
    "assert col_to_index(\"AA\") == 26\n",
    "assert col_to_index(\"AB\") == 27\n",
    "assert col_to_index(\"BA\") == 26 + 26\n",
    "assert col_to_index(\"ZZ\") + 1 == col_to_index(\"AAA\")"
   ]
  },
  {
   "cell_type": "markdown",
   "id": "8c90669e",
   "metadata": {},
   "source": [
    "# Testing and invariants"
   ]
  },
  {
   "cell_type": "markdown",
   "id": "f6c3d76f",
   "metadata": {},
   "source": [
    "We have written some common-sense tests so far, and I would be pretty confident this is working as intended. But it is worth asking, what properties do we think this function should have? Can we test it?\n",
    "\n",
    "I am going to exclude error handling (e.g. what if the string contains symbols not in the \"alphabet\", at the moment it raises an IndexError and that seems sufficient). \n",
    "\n",
    "\n",
    "Here are some properties:\n",
    "\n",
    "1. Any single letter should be represented by its index in the alphabet.\n",
    "2. If we generate all strings of length `N` or lower in order: \"A\", \"B\", .., \"Z\", \"AA\", \"AB\", .... The value of the function should be the index in this list.\n",
    " \n",
    "The first test is trivial from the implementation. Let's write the second test!"
   ]
  },
  {
   "cell_type": "code",
   "execution_count": 10,
   "id": "e6d7ee4d",
   "metadata": {},
   "outputs": [],
   "source": [
    "import itertools\n",
    "\n",
    "\n",
    "def test_all_sequential(max_length: int, unordered_symbols: str):\n",
    "    symbols=sorted(set(unordered_symbols))\n",
    "    assert len(symbols) == len(unordered_symbols), 'Please make all symbols unique'\n",
    "\n",
    "    up_to_n = itertools.chain(*[itertools.product(symbols, repeat=n) for n in range(1, max_length+1)])\n",
    "    for expected, tup in enumerate(up_to_n):\n",
    "        computed = col_to_index(''.join(tup), symbols=symbols)\n",
    "        assert expected == computed, f\"{''.join(tup)} input, expected {expected}, got {computed}\""
   ]
  },
  {
   "cell_type": "code",
   "execution_count": 11,
   "id": "766b5397",
   "metadata": {},
   "outputs": [],
   "source": [
    "test_all_sequential(max_length=3, unordered_symbols=\"AB\")\n",
    "test_all_sequential(max_length=3, unordered_symbols=string.ascii_uppercase)"
   ]
  }
 ],
 "metadata": {
  "kernelspec": {
   "display_name": "blog",
   "language": "python",
   "name": "python3"
  },
  "language_info": {
   "codemirror_mode": {
    "name": "ipython",
    "version": 3
   },
   "file_extension": ".py",
   "mimetype": "text/x-python",
   "name": "python",
   "nbconvert_exporter": "python",
   "pygments_lexer": "ipython3",
   "version": "3.12.3"
  }
 },
 "nbformat": 4,
 "nbformat_minor": 5
}
