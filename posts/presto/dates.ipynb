{
 "cells": [
  {
   "cell_type": "markdown",
   "metadata": {},
   "source": [
    "---\n",
    "title: \"Dates in presto\"\n",
    "author: \"Damien Martin\"\n",
    "date: \"2024-05-07 12:00\"\n",
    "categories: [presto, sql, dates]\n",
    "image: \"image.jpg\"\n",
    "description: \"Everytime I go to do dates in presto I have to look up how to do conversions.\"\n",
    "---"
   ]
  },
  {
   "cell_type": "markdown",
   "metadata": {},
   "source": [
    "# Common date problem format problems\n",
    "\n",
    "Convert a string to a datetime object\n",
    "```sql\n",
    "SELECT DATE_PARSE('2020-06-10', '%Y-%m-%d')\n",
    "```\n",
    "\n",
    "Convert one date format to another\n",
    "```sql\n",
    "SELECT DATE_FORMAT(DATE_PARSE('2020-06-10', '%Y-%m-%d'), '%Y%m%d')\n",
    "```\n",
    "\n"
   ]
  },
  {
   "cell_type": "markdown",
   "metadata": {},
   "source": [
    "# Create a date spine\n",
    "\n",
    "Want to do weekly smoothing, but worried that some days might be missing from the date range? Here is a way to generate a date range that you can left join to.\n",
    "\n",
    "```sql\n",
    "SELECT\n",
    "    *\n",
    "FROM UNNEST(\n",
    "        SEQUENCE(\n",
    "            FROM_ISO8601_DATE('2010-01-20'),\n",
    "            FROM_ISO8601_DATE('2010-01-24'),\n",
    "            INTERVAL '1' DAY\n",
    "        )\n",
    "    )\n",
    " AS t1(date_array)\n",
    " ```"
   ]
  },
  {
   "cell_type": "markdown",
   "metadata": {},
   "source": [
    "# Date Differences"
   ]
  },
  {
   "cell_type": "markdown",
   "metadata": {},
   "source": [
    "```sql\n",
    "SELECT DATE_DIFF('day', DATE('2024-09-16'), DATE('2024-09-20'))\n",
    "```\n",
    "\n",
    "This returns `4`. Things that can catch you:\n",
    "\n",
    "- Has to be `day` (not `days`) for the unit\n",
    "- The earlier date goes first (unlike subtraction, where we would start with the later date)"
   ]
  },
  {
   "cell_type": "markdown",
   "metadata": {},
   "source": []
  }
 ],
 "metadata": {
  "language_info": {
   "name": "python"
  }
 },
 "nbformat": 4,
 "nbformat_minor": 2
}
