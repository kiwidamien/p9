{
 "cells": [
  {
   "cell_type": "markdown",
   "metadata": {},
   "source": [
    "---\n",
    "title: \"Dates in presto\"\n",
    "author: \"Damien Martin\"\n",
    "date: \"2024-05-07 12:00\"\n",
    "categories: [presto, sql, dates]\n",
    "image: \"image.jpg\"\n",
    "description: \"Everytime I go to do dates in presto I have to look up how to do conversions.\"\n",
    "---"
   ]
  },
  {
   "cell_type": "markdown",
   "metadata": {},
   "source": [
    "# Common date problems\n",
    "\n",
    "Convert a string to a datetime object\n",
    "```sql\n",
    "SELECT DATE_PARSE('2020-06-10', '%Y-%m-%d')\n",
    "```\n",
    "\n",
    "Convert one date format to another\n",
    "```sql\n",
    "SELECT DATE_FORMAT(DATE_PARSE('2020-06-10', '%Y-%m-%d'), '%Y%m%d')\n",
    "```\n",
    "\n",
    "Add a day"
   ]
  },
  {
   "cell_type": "markdown",
   "metadata": {},
   "source": []
  }
 ],
 "metadata": {
  "language_info": {
   "name": "python"
  }
 },
 "nbformat": 4,
 "nbformat_minor": 2
}
