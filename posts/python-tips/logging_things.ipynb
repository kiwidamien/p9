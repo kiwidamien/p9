{
 "cells": [
  {
   "cell_type": "markdown",
   "metadata": {},
   "source": [
    "---\n",
    "title: \"Logging - How to and best practices\"\n",
    "author: \"Damien Martin\"\n",
    "date: \"2024-10-17 12:00\"\n",
    "categories: [python, logging]\n",
    "description: \"Giving some of the best logging practices, and clarifying some of the logging confusion.\"\n",
    "---"
   ]
  },
  {
   "cell_type": "markdown",
   "metadata": {},
   "source": [
    "# Problem"
   ]
  },
  {
   "cell_type": "markdown",
   "metadata": {},
   "source": [
    "Logging in Python is very flexible, but has some odd defaults that make it non-intuitive to use. \n",
    "\n",
    "The simplest example is the following code, which goes not print out anything:"
   ]
  },
  {
   "cell_type": "code",
   "execution_count": 1,
   "metadata": {},
   "outputs": [],
   "source": [
    "import logging\n",
    "\n",
    "logger = logging.getLogger(__name__)\n",
    "logger.setLevel(logging.INFO)  # Should print at level logging.INFO and above\n",
    "\n",
    "logger.info(\"Hello\")"
   ]
  },
  {
   "cell_type": "markdown",
   "metadata": {},
   "source": [
    "See? Nothing printed. We can try the following solution:"
   ]
  },
  {
   "cell_type": "code",
   "execution_count": 2,
   "metadata": {},
   "outputs": [
    {
     "name": "stderr",
     "output_type": "stream",
     "text": [
      "INFO:example:three\n"
     ]
    }
   ],
   "source": [
    "import logging\n",
    "\n",
    "logger = logging.getLogger('example')\n",
    "logger.setLevel(logging.INFO)\n",
    "logger.info('one')   # nothing printed\n",
    "logging.info('two')  # nothing printed\n",
    "logger.info('three') # prints / logs \"three\""
   ]
  },
  {
   "cell_type": "markdown",
   "metadata": {},
   "source": [
    "Why is only three printed? We will see why after looking at the next example, which fixes these problems."
   ]
  },
  {
   "cell_type": "code",
   "execution_count": 7,
   "metadata": {},
   "outputs": [
    {
     "name": "stderr",
     "output_type": "stream",
     "text": [
      "INFO:__main__:Hello\n"
     ]
    }
   ],
   "source": [
    "import logging\n",
    "\n",
    "logging.basicConfig()\n",
    "logger = logging.getLogger(__name__)\n",
    "logger.setLevel(logging.DEBUG)  # Should print at level logging.DEBUG and above\n",
    "\n",
    "logger.info(\"Hello\")"
   ]
  },
  {
   "cell_type": "markdown",
   "metadata": {},
   "source": [
    "The addition of `logging.basicConfig()` now allows you to set the level in a way that you expect! In our previous example, where we tried to log `one`, `two`, and `three`, the call to `logging.info` implicitly called the `logging.basicConfig()`, which then affects the all loggers from here on out. This call is changing _the root logging handler_, something we will define later on.\n",
    "\n",
    "To show that this is a change that persists, let's run the same code sample in the same kernel:"
   ]
  },
  {
   "cell_type": "code",
   "execution_count": 8,
   "metadata": {},
   "outputs": [
    {
     "name": "stderr",
     "output_type": "stream",
     "text": [
      "INFO:example:one\n",
      "INFO:example:three\n"
     ]
    }
   ],
   "source": [
    "#| lst-cap: Same code as above, but now `logging.basicConfig()` has been called\n",
    "import logging\n",
    "\n",
    "logger = logging.getLogger('example')\n",
    "logger.setLevel(logging.INFO)\n",
    "logger.info('one')   # nothing printed\n",
    "logging.info('two')  # nothing printed\n",
    "logger.info('three') # prints / logs \"three\""
   ]
  },
  {
   "cell_type": "markdown",
   "metadata": {},
   "source": [
    "# Solutions in a hurry"
   ]
  },
  {
   "cell_type": "markdown",
   "metadata": {},
   "source": [
    "## I just want something that works for simple apps"
   ]
  },
  {
   "cell_type": "markdown",
   "metadata": {},
   "source": [
    "If you just want to get logging, the basic solution is \n",
    "\n",
    "1. Call `logging.basicConfig()` early. This means doing it before other modules!\n",
    "\n",
    "The problems with this approach are:\n",
    "1. The call to `logging.basicConfig()` affects the root logger, so all loggigng is affected. This causes noisy libraries to propogate their error messages.\n",
    "2. The call to `logging.basicConfig()` is only processed once, so you have to make sure it isn't called by any of your imports. This also means that your import is going to fight with everyone else's. It isnt' a problem if you are all trying to set the level to DEBUG in the basic config.\n"
   ]
  },
  {
   "cell_type": "markdown",
   "metadata": {},
   "source": [
    "Calling `logging.basicConfig()` acts on the root logger, and because logging is handled in a hierarchy (with the root logger at the root), this can make it hard to reason about. There is only one root logger in your application, so you have to be aware of these side affects for not only everything you use, but everything you import.\n",
    "\n",
    "This [stackoverflow answer](https://stackoverflow.com/questions/57115395/why-does-logger-info-only-appear-after-calling-logging-info/) discusses this in more detail.\n"
   ]
  },
  {
   "cell_type": "markdown",
   "metadata": {},
   "source": [
    "## The better approach"
   ]
  },
  {
   "cell_type": "markdown",
   "metadata": {},
   "source": []
  },
  {
   "cell_type": "markdown",
   "metadata": {},
   "source": [
    "# Understanding Logging"
   ]
  },
  {
   "cell_type": "markdown",
   "metadata": {},
   "source": []
  }
 ],
 "metadata": {
  "kernelspec": {
   "display_name": "blog",
   "language": "python",
   "name": "python3"
  },
  "language_info": {
   "codemirror_mode": {
    "name": "ipython",
    "version": 3
   },
   "file_extension": ".py",
   "mimetype": "text/x-python",
   "name": "python",
   "nbconvert_exporter": "python",
   "pygments_lexer": "ipython3",
   "version": "3.12.3"
  }
 },
 "nbformat": 4,
 "nbformat_minor": 2
}
