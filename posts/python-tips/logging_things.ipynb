{
 "cells": [
  {
   "cell_type": "markdown",
   "metadata": {},
   "source": [
    "---\n",
    "title: \"Logging - How to and best practices\"\n",
    "author: \"Damien Martin\"\n",
    "date: \"2024-10-17 12:00\"\n",
    "categories: [python, logging]\n",
    "description: \"Giving some of the best logging practices, and clarifying some of the logging confusion.\"\n",
    "---"
   ]
  },
  {
   "cell_type": "markdown",
   "metadata": {},
   "source": [
    "# Problem"
   ]
  },
  {
   "cell_type": "markdown",
   "metadata": {},
   "source": [
    "Logging in Python is very flexible, but has some odd defaults that make it non-intuitive to use. \n",
    "\n",
    "The simplest example is the following code, which goes not print out anything:"
   ]
  },
  {
   "cell_type": "code",
   "execution_count": 1,
   "metadata": {},
   "outputs": [],
   "source": [
    "import logging\n",
    "\n",
    "logger = logging.getLogger(__name__)\n",
    "logger.setLevel(logging.INFO)  # Should print at level logging.INFO and above\n",
    "\n",
    "logger.info(\"Hello\")"
   ]
  },
  {
   "cell_type": "markdown",
   "metadata": {},
   "source": [
    "See? Nothing printed. \n",
    "\n",
    "We can try the following solution:"
   ]
  },
  {
   "cell_type": "code",
   "execution_count": 2,
   "metadata": {},
   "outputs": [
    {
     "name": "stderr",
     "output_type": "stream",
     "text": [
      "INFO:example:three\n"
     ]
    }
   ],
   "source": [
    "import logging\n",
    "\n",
    "logger = logging.getLogger('example')\n",
    "logger.setLevel(logging.INFO)\n",
    "logger.info('one')   # nothing printed\n",
    "logging.info('two')  # nothing printed\n",
    "logger.info('three') # prints / logs \"three\""
   ]
  },
  {
   "cell_type": "markdown",
   "metadata": {},
   "source": [
    "Why is only three printed? We will see why after looking at the next example, which fixes these problems."
   ]
  },
  {
   "cell_type": "code",
   "execution_count": 3,
   "metadata": {},
   "outputs": [
    {
     "name": "stderr",
     "output_type": "stream",
     "text": [
      "INFO:__main__:Hello\n"
     ]
    }
   ],
   "source": [
    "import logging\n",
    "\n",
    "logging.basicConfig()\n",
    "logger = logging.getLogger(__name__)\n",
    "logger.setLevel(logging.DEBUG)  # Should print at level logging.DEBUG and above\n",
    "\n",
    "logger.info(\"Hello\")"
   ]
  },
  {
   "cell_type": "markdown",
   "metadata": {},
   "source": [
    "The addition of `logging.basicConfig()` now allows you to set the level in a way that you expect! \n",
    "\n",
    "The problem is that python has a hierarchical system of handlers, and calling `logging.basicConfig()` affects the root handler. Logging messages start at the root hander, and it decides whether the logger you are defining even gets to see the message. In our previous example, where we tried to log `one`, `two`, and `three`, the call to `logging.info` implicitly called the `logging.basicConfig()`, which then affects the all loggers from here on out. This call is changing _the root logging handler_, something we will define later on.\n",
    "\n",
    "To show that this is a change that persists, let's run the same code sample in the same kernel:"
   ]
  },
  {
   "cell_type": "code",
   "execution_count": 4,
   "metadata": {},
   "outputs": [
    {
     "name": "stderr",
     "output_type": "stream",
     "text": [
      "INFO:example:one\n",
      "INFO:example:three\n"
     ]
    }
   ],
   "source": [
    "#| lst-cap: Same code as above, but now `logging.basicConfig()` has been called\n",
    "import logging\n",
    "\n",
    "logger = logging.getLogger('example')\n",
    "logger.setLevel(logging.INFO)\n",
    "logger.info('one')   # nothing printed\n",
    "logging.info('two')  # nothing printed\n",
    "logger.info('three') # prints / logs \"three\""
   ]
  },
  {
   "cell_type": "markdown",
   "metadata": {},
   "source": [
    "# Solutions in a hurry"
   ]
  },
  {
   "cell_type": "markdown",
   "metadata": {},
   "source": [
    "## I just want something that works for simple apps"
   ]
  },
  {
   "cell_type": "markdown",
   "metadata": {},
   "source": [
    "If you just want to get logging, the basic solution is \n",
    "\n",
    "1. Call `logging.basicConfig()` early. This means doing it before other modules!\n",
    "\n",
    "The problems with this approach are:\n",
    "1. The call to `logging.basicConfig()` affects the root logger, so all loggigng is affected. This causes noisy libraries to propogate their error messages.\n",
    "2. The call to `logging.basicConfig()` is only processed once, so you have to make sure it isn't called by any of your imports. This also means that your import is going to fight with everyone else's. It isnt' a problem if you are all trying to set the level to DEBUG in the basic config.\n"
   ]
  },
  {
   "cell_type": "markdown",
   "metadata": {},
   "source": [
    "Calling `logging.basicConfig()` acts on the root logger, and because logging is handled in a hierarchy (with the root logger at the root), this can make it hard to reason about. There is only one root logger in your application, so you have to be aware of these side affects for not only everything you use, but everything you import.\n",
    "\n",
    "This [stackoverflow answer](https://stackoverflow.com/questions/57115395/why-does-logger-info-only-appear-after-calling-logging-info/) discusses this in more detail.\n"
   ]
  },
  {
   "cell_type": "markdown",
   "metadata": {},
   "source": [
    "## The better approach"
   ]
  },
  {
   "cell_type": "markdown",
   "metadata": {},
   "source": [
    "A better approach is (from [mCoding's excellent overview](https://youtu.be/9L77QExPmI0?si=ie9vzv1tq4LR8xGR&t=163))\n",
    "\n",
    "1. Create a logger for your own script\n",
    "2. Leave propogation turned on to the root logger\n",
    "3. Put all complicated things (filters, formatters, etc) all on the root logger, not in your custom logger\n",
    "4. Use the logger you created, not the root logger, when logging messages. Your logger will propagate to the root logger, which will then use the filters and formatters to \"do-the-right-thing\" (TM).\n",
    "\n",
    "In code, you might do this:\n",
    "```python\n",
    "import logging\n",
    "import logging.config\n",
    "\n",
    "logger = logging.getLogger(\"my_app\")\n",
    "\n",
    "logger_config = {\n",
    "    \"version\": 1,  # always 1, allows future updates\n",
    "    \"disable_existing_loggers\": False,\n",
    "    \"filters\":{},\n",
    "    \"formatters\": {\n",
    "        \"simple\": {\n",
    "            \"format\": \"%(levelname)s %(message)s\",\n",
    "        }\n",
    "    },\n",
    "    \"handlers\": {\n",
    "        \"stderr\": {\n",
    "            \"class\": \"logging.StreamHandler\",   # Print to screen\n",
    "            \"formatter\": \"simple\",              # References a key in the formatters dict\n",
    "            \"stream\": \"ext://sys.stderr\",\n",
    "        }\n",
    "    },\n",
    "    \"loggers\": {\n",
    "        \"root\": {\"level\": \"DEBUG\", \"handlers\": [\"stderr\"]}   # handlers references a key in handlers dict\n",
    "    }\n",
    "}\n",
    "\n",
    "logging.config.dictConfig(config=logger_config)\n",
    "\n",
    "# use your logger\n",
    "logger.info(\"This is my logger, and is good\")\n",
    "\n",
    "# don't use the root logger directly\n",
    "logging.info(\"This is using the root logger, and this is bad\")\n",
    "```"
   ]
  },
  {
   "cell_type": "markdown",
   "metadata": {},
   "source": [
    "# Understanding Logging"
   ]
  },
  {
   "cell_type": "markdown",
   "metadata": {},
   "source": [
    "James Murphy (of mCoding) does an excellent job here of talking about what a logger is and now it works. This is very much inspired by his presentation of it in [this video](https://youtu.be/9L77QExPmI0?si=ie9vzv1tq4LR8xGR&t=163)\n",
    "\n",
    "## A single logger\n",
    "\n",
    "Here are the basic parts of logging:\n",
    "\n",
    "* **logger**: The is the the thing you make when calling `my_logger = getLogger(\"my_awesome_logger\")`. The logger is responsible for creating LogRecords, which is a data structure containing the information we want to log. It does this with a variety of methods: `my_logger.debug(\"message\")` creates a LogRecord with level DEBUG, etc. In addition, a logger contains the following parts:\n",
    "  * An internal level (numeric, but commonly aliased to DEBUG, INFO, WARNING, ERROR, CRITICAL) for the logger that can be set and changed.\n",
    "  * A filter, for determining which records \n",
    "  * A collection of handlers (see below)\n",
    "  * A propagation flag\n",
    "* **log records**: A log record is recreated when you call `my_logger.debug(message)`, `my_logger.info(message)`, etc. It creates a data structure that contains the message you gave it, as well as injecting a collection of metadata (e.g. when the message was called, what module it was called in, what function you were in, what line number you were on, what the level of the message is (debug vs info vs warning vs error vs critical), etc. The various fields you can access are listed in the documentation [here](https://docs.python.org/3/library/logging.html#logrecord-attributes).\n",
    "* **formatters**: A way of taking a log record, and turning into a string that can be printed, stored in a file, a database, etc.\n",
    "* **handlers**: A handler takes a log record, and decides what to do with it. Each handler typically deals with place to put logs, called a sink. If you wanted to print logs to std out and save them in a file, you would typically have two handlers: one handler for printing to std out, and a separate handler for each. A handler typically has\n",
    "  * An internal level (numeric, but commonly aliased to DEBUG, INFO, WARNING, ERROR, CRITICAL), just like the logger (this is a source of much confusion)\n",
    "  * A filter, for determining if this log record should be handled\n",
    "  * A formatter, which takes a log record and turns it into a string. This is the thing that is printed / stored in a file / stored in a database, etc.\n",
    "  * A sink: where we put the non-filtered strings we created from *log records*\n",
    "\n",
    "\n",
    "Here is a graphical representation of a single logger:"
   ]
  },
  {
   "cell_type": "markdown",
   "metadata": {},
   "source": [
    "![Structure of a Logger (mCoding inspired)](logger.png)"
   ]
  },
  {
   "cell_type": "markdown",
   "metadata": {},
   "source": [
    "When you call `my_logger.info(\"my message\")`, here is what happens:\n",
    "\n",
    "1. The logger first checks it's log level. If it is INFO or lower, then the logger creates the log record. If the logger's level is INFO or higher, we don't even make the record.\n",
    "2. The logger then creates the LogRecord, which contains the message `\"my_message\"`, as well as other meta data (e.g. when the LogRecord was created, the module/function/line number of the call, etc).\n",
    "3. The logger then checks if the LogRecord should be filtered out. It has access to all the data in the log record, not just the level. If it should be filtered out, we stop here.\n",
    "4. The logger then passes the LogRecord to each handler. Each handler now goes through a similar set of steps:\n",
    "   * Each handler checks _it's_ level, to see if it is INFO or lower. The handler stops if it's level is higher than INFO.\n",
    "   * Each handler with level INFO or below sees if it should filter out this message (e.g. some records might be okay to go on a screen, but not saved to disk)\n",
    "   * For each handler with level INFO or below, that didn't filter out the message, then formats the message, and sends it to it's sink.\n",
    "5. The LogRecord is then propagated on to the parent logger of this logger (!!). \n",
    "   * If `my_logger` rejects the LogRecord, we stop on steps 1 or 3 -- we never get here. Being rejected by the logger means no propagation.\n",
    "   * If `my_logger` doesn't reject the LogRecord, we do this step after all the handlers for `my_logger` -- even if every handler for `my_logger` rejected the message.\n",
    "\n",
    "::: {.callout-warning}\n",
    "Here are a couple of \"gotchas\"\n",
    "\n",
    "  - If you have a _handler_ with a level of DEBUG, but the logger has a higer level (e.g. INFO), you won't see any DEBUG messages. This is because the logger is dropping the messages before the handler gets a chance to see it.\n",
    "\n",
    "  - If you have a logger that drops a message (by level or filter), it will _not_ be propagated to other loggers.\n",
    "  \n",
    "  - If the logger doesn't drop a message, it will be propagated, even if no logger handles it. \n",
    ":::\n",
    "\n",
    "The reason for this is if you wanted to block messages from Pandas, you only have to manipulate the logger to block at the logger e.g. to block Pandas DEBUG messages while keeping INFO and higher, but keep debug messages from your application, you would only need to set the LEVEL on the pandas logger to INFO, and the logger for your application to DEBUG.\n",
    "\n",
    "So in addition to multiple handlers, we also have multiple _loggers_. Let's deal with that next."
   ]
  },
  {
   "cell_type": "markdown",
   "metadata": {},
   "source": [
    "## The logging tree"
   ]
  },
  {
   "cell_type": "markdown",
   "metadata": {},
   "source": [
    "When you type `import logging` into your application, you get a _root_ logger. Any other logger you create is a descendent of this root.\n",
    "\n",
    "When you call `logging.getLogger(\"silly_logger\")`, then Python will create a logger object called `\"silly_logger\"` if it doesn't exist; once the logger exists it will be returned. You will only have logger called `\"silly_logger\"` at any time in your program. This logger will (by default) pass any message it doesn't drop on to the root logger.\n",
    "\n",
    "When you call `logging.getLogger(\"my_app.X.awesome_logger\")`, you get the three loggers (either returning them if they exist, or creating them):\n",
    "* `my_app`\n",
    "* `my_app.X`\n",
    "* `my_app.X.awesome_logger`\n",
    "and a link to the `my_app.X.awesome_logger` is returned. Each one of these loggers propagates any non-dropped messages up the chain to the next logger, with the `my_app` logger propagating to the root.\n",
    "\n",
    "As a diagram, we have\n",
    "\n",
    "\n",
    "\n",
    "```{mermaid}\n",
    "flowchart BT\n",
    "  AWESOME[my_app.X.awesome_logger] --> MAX[my_app.X] --> MA[my_app] --> Root\n",
    "  S[silly_logger] --> Root\n",
    "\n",
    "```"
   ]
  },
  {
   "cell_type": "markdown",
   "metadata": {},
   "source": [
    "::: {callout-info}\n",
    "It is possible to change loggers so they don't propagate upward, but by default they do. Because it is very common for imports to have their own loggers, you should assume that the root logger will have messages passed to it, even if you turn propagation off in your loggers.\n",
    ":::"
   ]
  },
  {
   "cell_type": "markdown",
   "metadata": {},
   "source": [
    "## Going back to the initial problem\n",
    "\n",
    "When we started this article, we looked at a simple problem of why logging didn't work until the root logger or `basicConfig` was called. Let's look at it again"
   ]
  },
  {
   "cell_type": "code",
   "execution_count": 2,
   "metadata": {},
   "outputs": [
    {
     "name": "stderr",
     "output_type": "stream",
     "text": [
      "INFO:test:This should be seen, but won't be\n",
      "WARNING:test:This will be seen\n",
      "INFO:test:But this won't be\n",
      "INFO:test:Bye!\n",
      "WARNING:test:S\n"
     ]
    }
   ],
   "source": [
    "#| output: False\n",
    "#| code-line-numbers: True\n",
    "import logging\n",
    "\n",
    "logger = logging.getLogger('test')\n",
    "logger.setLevel(logging.DEBUG)\n",
    "logger.info(\"This should be seen, but won't be\")\n",
    "logger.warning(\"This will be seen\")\n",
    "logger.info(\"But this won't be\")\n",
    "\n",
    "# Now use the root logger\n",
    "logging.info(\"Hi\")\n",
    "\n",
    "logger.info(\"Bye!\")\n"
   ]
  },
  {
   "cell_type": "markdown",
   "metadata": {},
   "source": [
    "What we get out is just \n",
    "```python\n",
    "This will be seen\n",
    "INFO:test:Bye!\n",
    "```"
   ]
  },
  {
   "cell_type": "markdown",
   "metadata": {},
   "source": [
    "The order of events are roughly:\n",
    "\n",
    "- Line 3: We make a new logger called `test`. This logger does not have any handlers. The root logger _does_ have a handler, which prints to standard error, and WARNING or higher by default.\n",
    "- Line 4: We set the warning level of the `test` logger to DEBUG.\n",
    "- Line 5: We send the `test` logger an INFO message. \n",
    "  - It accepts it, but has no handlers. It makes a log record, and propagates on to the root logger.\n",
    "  - The root logger has a default level of WARNING, and ignores this message.\n",
    "- Line 6: We sent the `test` logger a WARNING message.\n",
    "  - It accepts it, but has not handlers. It makes a log record, and propagates on to the root logger.\n",
    "  - The root logger has a default level of WARNING, so it will handle this message.\n",
    "  - The root logger's default formatter just prints the message\n",
    "- Line 7: We sent the `test` logger an INFO message. \n",
    "  - Same as line 5, it passes the LogRecord onto the root logger, and the root logger ignores it.\n",
    "- Line 10: We send the _root_ logger its first message directly (rather than it being passed). Or more precisely, we are calling `info` in the logging module.\n",
    "  - You can see from the [code in Github](https://github.com/python/cpython/blob/ded105a62b9d78717f8dc64652e3903190b585dd/Lib/logging/__init__.py#L2187), this sees we have no root configured yet, so it calls `basicConfig()`.\n",
    "  - From the docstring of `basicConfig()` you can see it does nothing, unless we don't have handlers for the root logger.\n",
    "  - In that case, it will add one (a stream), set a basic format string with a bit more information, and not require a level anymore.\n",
    "- Line 12: We send the `test` logger an INFO message.\n",
    "  - It accepts it, but has no handlers. It propagates it to the root logger.\n",
    "  - The root logger now accepts any level after the `basicConfig()`, and has the formatter updated. From the LogRecord, it produces `INFO:test:Bye!`"
   ]
  },
  {
   "cell_type": "markdown",
   "metadata": {},
   "source": [
    "If this code is in a Jupyter notebook and you ran in again, you would have different output, precisely because the root logger has already been configured."
   ]
  },
  {
   "cell_type": "markdown",
   "metadata": {},
   "source": [
    "# Recommendations"
   ]
  },
  {
   "cell_type": "markdown",
   "metadata": {},
   "source": [
    "With multiple layers of loggers and handlers, it is easy to see how messages could get lost or repeated. Here are some recommendations take from James Murphy's mCoding video:\n",
    "\n",
    "1. Don't use the root logger, make your own.\n",
    "2. You don't need a logger for every file, just make one for your app.\n",
    "3. Call DictConfig on your logger, to explicitly set up what you want the handlers, filters, and formatters to be\n",
    "4. Put all handlers, filters, and formatters on the root logger, not your own logger(s). Just let everything propagate up to the root, and then deal with it there (slight exception if using a QueueHandler)"
   ]
  },
  {
   "cell_type": "markdown",
   "metadata": {},
   "source": [
    "# Advanced Logging"
   ]
  },
  {
   "cell_type": "markdown",
   "metadata": {},
   "source": [
    "The first thing you should do is watch the mCoding video mentioned a few times already. It has some examples of setting up a rotating file handler, and a queue handler (which I will go into more detail on below).\n",
    "\n",
    "Beyong that, there are lots of different configuration \"recipes\" that you can find in the [Python Logging Cookbook](https://docs.python.org/3/howto/logging-cookbook.html).\n",
    "\n",
    "The Queue handler is interesting, because the idea is that logging posts to a queue. The queue is processed by a worker in another thread, so that if your log involves an expensive IO operation (TBC)"
   ]
  },
  {
   "cell_type": "markdown",
   "metadata": {},
   "source": []
  }
 ],
 "metadata": {
  "kernelspec": {
   "display_name": "blog",
   "language": "python",
   "name": "python3"
  },
  "language_info": {
   "codemirror_mode": {
    "name": "ipython",
    "version": 3
   },
   "file_extension": ".py",
   "mimetype": "text/x-python",
   "name": "python",
   "nbconvert_exporter": "python",
   "pygments_lexer": "ipython3",
   "version": "3.12.3"
  }
 },
 "nbformat": 4,
 "nbformat_minor": 2
}
